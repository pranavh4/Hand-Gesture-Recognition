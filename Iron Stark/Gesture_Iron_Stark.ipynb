{
 "cells": [
  {
   "cell_type": "code",
   "execution_count": 8,
   "metadata": {},
   "outputs": [],
   "source": [
    "from tensorflow.keras.applications import VGG16\n",
    "import tensorflow as tf\n",
    "from tensorflow.keras.models import Sequential\n",
    "import tensorflow.keras.layers as layers\n",
    "import tensorflow.keras.optimizers as optimizers\n",
    "import cv2\n",
    "import matplotlib.pyplot as plt\n",
    "import numpy as np\n",
    "import generate_images_labels as img_label, image_transformation as img_trans"
   ]
  },
  {
   "cell_type": "code",
   "execution_count": 19,
   "metadata": {},
   "outputs": [],
   "source": [
    "img_labels_train = img_label.get_images_labels_list(\"./data/images/train\")\n",
    "img_train = []\n",
    "for i in img_labels_train:\n",
    "    img_train.append(cv2.imread(i['image_path']))\n",
    "img_train = np.array(img_train)"
   ]
  },
  {
   "cell_type": "code",
   "execution_count": 20,
   "metadata": {},
   "outputs": [],
   "source": [
    "img_labels_train = [i['image_label'] for i in img_labels_train]\n",
    "labels = sorted(list(set(img_labels_train)))\n",
    "for i in range(len(img_labels_train)):\n",
    "    one_hot = [0 for x in range(len(labels))]\n",
    "    one_hot[labels.index(img_labels_train[i])] = 1\n",
    "    img_labels_train[i] = one_hot\n",
    "img_labels_train = np.array(img_labels_train)"
   ]
  },
  {
   "cell_type": "code",
   "execution_count": 21,
   "metadata": {},
   "outputs": [],
   "source": [
    "img_labels_test = img_label.get_images_labels_list(\"./data/images/test\")\n",
    "img_test = []\n",
    "for i in img_labels_test:\n",
    "    img_test.append(cv2.imread(i['image_path']))\n",
    "img_test = np.array(img_test)"
   ]
  },
  {
   "cell_type": "code",
   "execution_count": 22,
   "metadata": {},
   "outputs": [],
   "source": [
    "img_labels_test = [i['image_label'] for i in img_labels_test]\n",
    "labels = sorted(list(set(img_labels_test)))\n",
    "for i in range(len(img_labels_test)):\n",
    "    one_hot = [0 for x in range(len(labels))]\n",
    "    one_hot[labels.index(img_labels_test[i])] = 1\n",
    "    img_labels_test[i] = one_hot\n",
    "img_labels_test = np.array(img_labels_test)"
   ]
  },
  {
   "cell_type": "code",
   "execution_count": 6,
   "metadata": {},
   "outputs": [],
   "source": [
    "IMG_SHAPE = (240, 320, 3)"
   ]
  },
  {
   "cell_type": "code",
   "execution_count": 40,
   "metadata": {},
   "outputs": [
    {
     "name": "stdout",
     "output_type": "stream",
     "text": [
      "Model: \"sequential_12\"\n",
      "_________________________________________________________________\n",
      "Layer (type)                 Output Shape              Param #   \n",
      "=================================================================\n",
      "conv2d_17 (Conv2D)           (None, 238, 318, 4)       112       \n",
      "_________________________________________________________________\n",
      "max_pooling2d_17 (MaxPooling (None, 119, 159, 4)       0         \n",
      "_________________________________________________________________\n",
      "dropout_18 (Dropout)         (None, 119, 159, 4)       0         \n",
      "_________________________________________________________________\n",
      "conv2d_18 (Conv2D)           (None, 117, 157, 2)       74        \n",
      "_________________________________________________________________\n",
      "max_pooling2d_18 (MaxPooling (None, 58, 78, 2)         0         \n",
      "_________________________________________________________________\n",
      "dropout_19 (Dropout)         (None, 58, 78, 2)         0         \n",
      "_________________________________________________________________\n",
      "conv2d_19 (Conv2D)           (None, 56, 76, 2)         38        \n",
      "_________________________________________________________________\n",
      "max_pooling2d_19 (MaxPooling (None, 28, 38, 2)         0         \n",
      "_________________________________________________________________\n",
      "dropout_20 (Dropout)         (None, 28, 38, 2)         0         \n",
      "_________________________________________________________________\n",
      "flatten_8 (Flatten)          (None, 2128)              0         \n",
      "_________________________________________________________________\n",
      "dense_14 (Dense)             (None, 64)                136256    \n",
      "_________________________________________________________________\n",
      "dropout_21 (Dropout)         (None, 64)                0         \n",
      "_________________________________________________________________\n",
      "dense_15 (Dense)             (None, 18)                1170      \n",
      "=================================================================\n",
      "Total params: 137,650\n",
      "Trainable params: 137,650\n",
      "Non-trainable params: 0\n",
      "_________________________________________________________________\n"
     ]
    }
   ],
   "source": [
    "new_model = Sequential()\n",
    "# model.trainable = False\n",
    "opt = optimizers.Adam(learning_rate=0.001)\n",
    "new_model.add(layers.Conv2D(filters=4,kernel_size=(3,3),input_shape=IMG_SHAPE,activation='relu'))\n",
    "new_model.add(layers.MaxPool2D(pool_size=(2,2)))\n",
    "new_model.add(layers.Dropout(0.5))\n",
    "# new_model.add(layers.MaxPool2D(pool_size=(2,2)))\n",
    "new_model.add(layers.Conv2D(filters=2,kernel_size=(3,3),activation='relu'))\n",
    "new_model.add(layers.MaxPool2D(pool_size=(2,2)))\n",
    "new_model.add(layers.Dropout(0.5))\n",
    "new_model.add(layers.Conv2D(filters=2,kernel_size=(3,3),activation='relu'))\n",
    "new_model.add(layers.MaxPool2D(pool_size=(2,2)))\n",
    "new_model.add(layers.Dropout(0.5))\n",
    "new_model.add(layers.Flatten())\n",
    "new_model.add(layers.Dense(64, activation='relu'))\n",
    "new_model.add(layers.Dropout(0.5))\n",
    "new_model.add(layers.Dense(18, activation='softmax'))\n",
    "new_model.compile(optimizer=opt,loss='categorical_crossentropy',metrics=['accuracy'])\n",
    "new_model.summary()"
   ]
  },
  {
   "cell_type": "code",
   "execution_count": 41,
   "metadata": {},
   "outputs": [
    {
     "name": "stdout",
     "output_type": "stream",
     "text": [
      "Train on 708 samples, validate on 450 samples\n",
      "Epoch 1/20\n",
      "708/708 [==============================] - 17s 24ms/sample - loss: 15.1065 - accuracy: 0.1554 - val_loss: 3.0523 - val_accuracy: 0.0689\n",
      "Epoch 2/20\n",
      "708/708 [==============================] - 17s 24ms/sample - loss: 3.3083 - accuracy: 0.2599 - val_loss: 2.9191 - val_accuracy: 0.0756\n",
      "Epoch 3/20\n",
      "708/708 [==============================] - 20s 28ms/sample - loss: 2.5365 - accuracy: 0.3037 - val_loss: 2.9276 - val_accuracy: 0.0667\n",
      "Epoch 4/20\n",
      "708/708 [==============================] - 19s 27ms/sample - loss: 2.0859 - accuracy: 0.3757 - val_loss: 2.9387 - val_accuracy: 0.0733\n",
      "Epoch 5/20\n",
      "708/708 [==============================] - 20s 28ms/sample - loss: 1.8559 - accuracy: 0.4590 - val_loss: 3.0012 - val_accuracy: 0.0778\n",
      "Epoch 6/20\n",
      "708/708 [==============================] - 21s 30ms/sample - loss: 1.5710 - accuracy: 0.5282 - val_loss: 3.1077 - val_accuracy: 0.0778\n",
      "Epoch 7/20\n",
      "708/708 [==============================] - 22s 31ms/sample - loss: 1.4522 - accuracy: 0.5791 - val_loss: 3.1434 - val_accuracy: 0.0800\n",
      "Epoch 8/20\n",
      "708/708 [==============================] - 23s 33ms/sample - loss: 1.3550 - accuracy: 0.6045 - val_loss: 3.1107 - val_accuracy: 0.1000\n",
      "Epoch 9/20\n",
      "708/708 [==============================] - 21s 29ms/sample - loss: 1.0861 - accuracy: 0.6751 - val_loss: 3.1476 - val_accuracy: 0.1022\n",
      "Epoch 10/20\n",
      "708/708 [==============================] - 20s 29ms/sample - loss: 1.0519 - accuracy: 0.6935 - val_loss: 3.2908 - val_accuracy: 0.1267\n",
      "Epoch 11/20\n",
      "708/708 [==============================] - 19s 27ms/sample - loss: 0.9590 - accuracy: 0.7260 - val_loss: 3.4200 - val_accuracy: 0.1044\n",
      "Epoch 12/20\n",
      "708/708 [==============================] - 19s 27ms/sample - loss: 0.8493 - accuracy: 0.7429 - val_loss: 3.4998 - val_accuracy: 0.1022\n",
      "Epoch 13/20\n",
      "708/708 [==============================] - 18s 26ms/sample - loss: 0.8211 - accuracy: 0.7571 - val_loss: 3.5607 - val_accuracy: 0.1178\n",
      "Epoch 14/20\n",
      "708/708 [==============================] - 18s 25ms/sample - loss: 0.6839 - accuracy: 0.7924 - val_loss: 3.6057 - val_accuracy: 0.1200\n",
      "Epoch 15/20\n",
      "708/708 [==============================] - 19s 26ms/sample - loss: 0.5970 - accuracy: 0.8079 - val_loss: 3.7314 - val_accuracy: 0.1111\n",
      "Epoch 16/20\n",
      "708/708 [==============================] - 18s 25ms/sample - loss: 0.6177 - accuracy: 0.8079 - val_loss: 3.7628 - val_accuracy: 0.1178\n",
      "Epoch 17/20\n",
      "708/708 [==============================] - 20s 28ms/sample - loss: 0.5775 - accuracy: 0.8178 - val_loss: 3.8450 - val_accuracy: 0.1133\n",
      "Epoch 18/20\n",
      "708/708 [==============================] - 19s 27ms/sample - loss: 0.4707 - accuracy: 0.8559 - val_loss: 3.9210 - val_accuracy: 0.0933\n",
      "Epoch 19/20\n",
      "708/708 [==============================] - 18s 26ms/sample - loss: 0.4043 - accuracy: 0.8743 - val_loss: 4.1360 - val_accuracy: 0.0956\n",
      "Epoch 20/20\n",
      "708/708 [==============================] - 19s 27ms/sample - loss: 0.4677 - accuracy: 0.8616 - val_loss: 4.2545 - val_accuracy: 0.1067\n"
     ]
    }
   ],
   "source": [
    "history = new_model.fit(x=img_train,\n",
    "                        y=img_labels_train,\n",
    "                        validation_data=(img_test,img_labels_test),\n",
    "                        epochs=20)"
   ]
  },
  {
   "cell_type": "code",
   "execution_count": 14,
   "metadata": {},
   "outputs": [],
   "source": [
    "img_train = np.array(img_train)"
   ]
  },
  {
   "cell_type": "code",
   "execution_count": 15,
   "metadata": {},
   "outputs": [
    {
     "data": {
      "text/plain": [
       "(767, 240, 320, 3)"
      ]
     },
     "execution_count": 15,
     "metadata": {},
     "output_type": "execute_result"
    }
   ],
   "source": [
    "img_train.shape"
   ]
  }
 ],
 "metadata": {
  "kernelspec": {
   "display_name": "hack_env",
   "language": "python",
   "name": "hack_env"
  },
  "language_info": {
   "codemirror_mode": {
    "name": "ipython",
    "version": 3
   },
   "file_extension": ".py",
   "mimetype": "text/x-python",
   "name": "python",
   "nbconvert_exporter": "python",
   "pygments_lexer": "ipython3",
   "version": "3.7.5"
  },
  "varInspector": {
   "cols": {
    "lenName": 16,
    "lenType": 16,
    "lenVar": 40
   },
   "kernels_config": {
    "python": {
     "delete_cmd_postfix": "",
     "delete_cmd_prefix": "del ",
     "library": "var_list.py",
     "varRefreshCmd": "print(var_dic_list())"
    },
    "r": {
     "delete_cmd_postfix": ") ",
     "delete_cmd_prefix": "rm(",
     "library": "var_list.r",
     "varRefreshCmd": "cat(var_dic_list()) "
    }
   },
   "types_to_exclude": [
    "module",
    "function",
    "builtin_function_or_method",
    "instance",
    "_Feature"
   ],
   "window_display": false
  }
 },
 "nbformat": 4,
 "nbformat_minor": 2
}
