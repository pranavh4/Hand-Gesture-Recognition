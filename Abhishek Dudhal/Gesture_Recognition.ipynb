{
  "nbformat": 4,
  "nbformat_minor": 0,
  "metadata": {
    "colab": {
      "name": "Gesture_Recognition.ipynb",
      "provenance": [],
      "collapsed_sections": [],
      "toc_visible": true
    },
    "kernelspec": {
      "name": "python3",
      "display_name": "Python 3"
    },
    "accelerator": "GPU"
  },
  "cells": [
    {
      "cell_type": "code",
      "metadata": {
        "id": "CabhMbeFVWVk",
        "colab_type": "code",
        "colab": {}
      },
      "source": [
        "import os\n",
        "import zipfile\n",
        "\n",
        "path = '/content/drive/My Drive/NoFilterModeDataSet.zip'\n",
        "local_path = '/content/NoFilterModeDataSet'\n",
        "zip_ref = zipfile.ZipFile(path,'r')\n",
        "zip_ref.extractall('/content')\n",
        "zip_ref.close()\n",
        "# os.rename('/content/data','/content/Gesture_Recognition_Dataset')"
      ],
      "execution_count": 0,
      "outputs": []
    },
    {
      "cell_type": "code",
      "metadata": {
        "id": "eG422Vf0v8Eo",
        "colab_type": "code",
        "colab": {}
      },
      "source": [
        "import cv2\n",
        "import numpy as np\n",
        "import re\n",
        "from tensorflow.keras.models import Sequential\n",
        "from tensorflow.keras.layers import Conv2D, MaxPooling2D, Dropout, Flatten, Dense\n",
        "from tensorflow.keras.callbacks import Callback\n",
        "from google.colab.patches import cv2_imshow\n",
        "import matplotlib.pyplot as plt"
      ],
      "execution_count": 0,
      "outputs": []
    },
    {
      "cell_type": "code",
      "metadata": {
        "id": "L0ed8Eu5vNYF",
        "colab_type": "code",
        "colab": {}
      },
      "source": [
        "image_files = os.listdir(local_path)\n",
        "images = []\n",
        "target = []\n",
        "for f in image_files:\n",
        "  file_path = os.path.join(local_path,f)\n",
        "  # image = cv2.cvtColor(cv2.imread(file_path), cv2.COLOR_BGR2GRAY)\n",
        "  # image = np.reshape(image,(200,200,1))\n",
        "  # print(image)\n",
        "  # cv2_imshow(image)\n",
        "  # print(image.shape)\n",
        "  # break\n",
        "  images.append(cv2.imread(file_path))\n",
        "  ind = re.search(r\"\\d\",f).start()\n",
        "  t = f[:ind]\n",
        "  target.append(t)\n",
        "  # print(t)"
      ],
      "execution_count": 0,
      "outputs": []
    },
    {
      "cell_type": "code",
      "metadata": {
        "id": "CrdPZIx1x9yv",
        "colab_type": "code",
        "colab": {}
      },
      "source": [
        "# run this to take load data for all 50 classes\n",
        "target_labels = sorted(list(set(target)))\n",
        "target = [target_labels.index(i) for i in target]\n",
        "images = np.array(images)\n",
        "target = np.array(target)"
      ],
      "execution_count": 0,
      "outputs": []
    },
    {
      "cell_type": "code",
      "metadata": {
        "id": "ZO0KVsCd16sY",
        "colab_type": "code",
        "colab": {}
      },
      "source": [
        "# run this to load data from first 10 classes\n",
        "n_images = []\n",
        "n_targets = []\n",
        "target_labels = sorted(list(set(target)))\n",
        "n_t = target_labels[:10]\n",
        "for i in range(len(images)):\n",
        "  if target[i] not in n_t:\n",
        "    continue\n",
        "  n_images.append(images[i])\n",
        "  n_targets.append(target[i])\n",
        "\n",
        "target = [target_labels.index(i) for i in n_targets]\n",
        "images = np.array(n_images)\n",
        "target = np.array(target)"
      ],
      "execution_count": 0,
      "outputs": []
    },
    {
      "cell_type": "code",
      "metadata": {
        "id": "IyXvgZb_yOTY",
        "colab_type": "code",
        "colab": {}
      },
      "source": [
        "# input image dimensions\n",
        "img_x, img_y = 200, 200\n",
        "# For grayscale use 1 value and for color images use 3 (R,G,B channels)\n",
        "img_channels = 3\n",
        "#number of classes\n",
        "# change this value depending on what code you run above\n",
        "no_classes = 50\n",
        "#size of convolutional filter\n",
        "no_conv = 3\n",
        "#size of max pooling window\n",
        "no_pool = 2\n",
        "no_filters = [2,4,8,16,32,64,128,256,512]\n",
        "dropout_ratio = [0,0.25,0.5,0.75,1]\n",
        "input_shape = (img_x, img_y,img_channels)"
      ],
      "execution_count": 0,
      "outputs": []
    },
    {
      "cell_type": "code",
      "metadata": {
        "id": "GNzGtR2Wygjq",
        "colab_type": "code",
        "outputId": "8835e208-5db3-4f80-d746-b5029a2eb315",
        "colab": {
          "base_uri": "https://localhost:8080/",
          "height": 990
        }
      },
      "source": [
        "model = Sequential()\n",
        "\n",
        "model.add(Conv2D(no_filters[4], (no_conv, no_conv), padding='valid', activation='relu', input_shape=input_shape))\n",
        "model.add(Conv2D(no_filters[4], (no_conv, no_conv), activation='relu'))\n",
        "model.add(MaxPooling2D(pool_size=(no_pool, no_pool)))\n",
        "model.add(Dropout(dropout_ratio[1]))\n",
        "\n",
        "model.add(Conv2D(no_filters[5], (no_conv, no_conv), padding='valid', activation='relu'))\n",
        "model.add(Conv2D(no_filters[5], (no_conv, no_conv), activation='relu'))\n",
        "model.add(MaxPooling2D(pool_size=(no_pool, no_pool)))\n",
        "model.add(Dropout(dropout_ratio[1]))\n",
        "\n",
        "model.add(Conv2D(no_filters[6], (no_conv, no_conv), padding='valid', activation='relu'))\n",
        "model.add(Conv2D(no_filters[6], (no_conv, no_conv), activation='relu'))\n",
        "model.add(MaxPooling2D(pool_size=(no_pool, no_pool)))\n",
        "model.add(Dropout(dropout_ratio[1]))\n",
        "\n",
        "model.add(Conv2D(no_filters[7], (no_conv, no_conv), padding='valid', activation='relu'))\n",
        "model.add(Conv2D(no_filters[7], (no_conv, no_conv), activation='relu'))\n",
        "model.add(MaxPooling2D(pool_size=(no_pool, no_pool)))\n",
        "model.add(Dropout(dropout_ratio[1]))\n",
        "\n",
        "model.add(Conv2D(no_filters[8], (no_conv, no_conv), padding='valid', activation='relu'))\n",
        "model.add(Conv2D(no_filters[8], (no_conv, no_conv), activation='relu'))\n",
        "model.add(MaxPooling2D(pool_size=(no_pool, no_pool)))\n",
        "model.add(Dropout(dropout_ratio[1]))\n",
        "\n",
        "\n",
        "model.add(Flatten())\n",
        "model.add(Dense(no_filters[8], activation='relu'))\n",
        "model.add(Dropout(dropout_ratio[2]))\n",
        "model.add(Dense(no_classes, activation='softmax'))\n",
        "model.summary()\n",
        "model.compile(loss='sparse_categorical_crossentropy', optimizer='adam', metrics=['accuracy'])"
      ],
      "execution_count": 0,
      "outputs": [
        {
          "output_type": "stream",
          "text": [
            "Model: \"sequential_10\"\n",
            "_________________________________________________________________\n",
            "Layer (type)                 Output Shape              Param #   \n",
            "=================================================================\n",
            "conv2d_100 (Conv2D)          (None, 198, 198, 32)      896       \n",
            "_________________________________________________________________\n",
            "conv2d_101 (Conv2D)          (None, 196, 196, 32)      9248      \n",
            "_________________________________________________________________\n",
            "max_pooling2d_50 (MaxPooling (None, 98, 98, 32)        0         \n",
            "_________________________________________________________________\n",
            "dropout_60 (Dropout)         (None, 98, 98, 32)        0         \n",
            "_________________________________________________________________\n",
            "conv2d_102 (Conv2D)          (None, 96, 96, 64)        18496     \n",
            "_________________________________________________________________\n",
            "conv2d_103 (Conv2D)          (None, 94, 94, 64)        36928     \n",
            "_________________________________________________________________\n",
            "max_pooling2d_51 (MaxPooling (None, 47, 47, 64)        0         \n",
            "_________________________________________________________________\n",
            "dropout_61 (Dropout)         (None, 47, 47, 64)        0         \n",
            "_________________________________________________________________\n",
            "conv2d_104 (Conv2D)          (None, 45, 45, 128)       73856     \n",
            "_________________________________________________________________\n",
            "conv2d_105 (Conv2D)          (None, 43, 43, 128)       147584    \n",
            "_________________________________________________________________\n",
            "max_pooling2d_52 (MaxPooling (None, 21, 21, 128)       0         \n",
            "_________________________________________________________________\n",
            "dropout_62 (Dropout)         (None, 21, 21, 128)       0         \n",
            "_________________________________________________________________\n",
            "conv2d_106 (Conv2D)          (None, 19, 19, 256)       295168    \n",
            "_________________________________________________________________\n",
            "conv2d_107 (Conv2D)          (None, 17, 17, 256)       590080    \n",
            "_________________________________________________________________\n",
            "max_pooling2d_53 (MaxPooling (None, 8, 8, 256)         0         \n",
            "_________________________________________________________________\n",
            "dropout_63 (Dropout)         (None, 8, 8, 256)         0         \n",
            "_________________________________________________________________\n",
            "conv2d_108 (Conv2D)          (None, 6, 6, 512)         1180160   \n",
            "_________________________________________________________________\n",
            "conv2d_109 (Conv2D)          (None, 4, 4, 512)         2359808   \n",
            "_________________________________________________________________\n",
            "max_pooling2d_54 (MaxPooling (None, 2, 2, 512)         0         \n",
            "_________________________________________________________________\n",
            "dropout_64 (Dropout)         (None, 2, 2, 512)         0         \n",
            "_________________________________________________________________\n",
            "flatten_10 (Flatten)         (None, 2048)              0         \n",
            "_________________________________________________________________\n",
            "dense_20 (Dense)             (None, 512)               1049088   \n",
            "_________________________________________________________________\n",
            "dropout_65 (Dropout)         (None, 512)               0         \n",
            "_________________________________________________________________\n",
            "dense_21 (Dense)             (None, 50)                25650     \n",
            "=================================================================\n",
            "Total params: 5,786,962\n",
            "Trainable params: 5,786,962\n",
            "Non-trainable params: 0\n",
            "_________________________________________________________________\n"
          ],
          "name": "stdout"
        }
      ]
    },
    {
      "cell_type": "code",
      "metadata": {
        "id": "Anfd78Jf3Ukf",
        "colab_type": "code",
        "colab": {}
      },
      "source": [
        "# callback which stops training when training accuracy reaches 90%\n",
        "class MyCallback(Callback):\n",
        "  def on_epoch_end(self, epoch, logs={}):\n",
        "    acc = logs.get('acc')\n",
        "    if acc:\n",
        "      if acc > 0.9:\n",
        "        self.model.stop_training = True"
      ],
      "execution_count": 0,
      "outputs": []
    },
    {
      "cell_type": "code",
      "metadata": {
        "id": "350hNNr2z0zt",
        "colab_type": "code",
        "outputId": "80d0b9b5-975e-49a0-bfb8-7685feec7b7c",
        "colab": {
          "base_uri": "https://localhost:8080/",
          "height": 1000
        }
      },
      "source": [
        "callback = MyCallback()\n",
        "history = model.fit(x=images,y=target,validation_split=0.2,epochs=50,callbacks=[callback])"
      ],
      "execution_count": 0,
      "outputs": [
        {
          "output_type": "stream",
          "text": [
            "Train on 4000 samples, validate on 1000 samples\n",
            "Epoch 1/50\n",
            "4000/4000 [==============================] - 10s 3ms/sample - loss: 4.1314 - acc: 0.0192 - val_loss: 3.9137 - val_acc: 0.0110\n",
            "Epoch 2/50\n",
            "4000/4000 [==============================] - 10s 2ms/sample - loss: 3.9015 - acc: 0.0205 - val_loss: 3.9162 - val_acc: 0.0140\n",
            "Epoch 3/50\n",
            "4000/4000 [==============================] - 10s 2ms/sample - loss: 3.9112 - acc: 0.0185 - val_loss: 3.9168 - val_acc: 0.0140\n",
            "Epoch 4/50\n",
            "4000/4000 [==============================] - 10s 2ms/sample - loss: 3.9080 - acc: 0.0235 - val_loss: 3.9102 - val_acc: 0.0110\n",
            "Epoch 5/50\n",
            "4000/4000 [==============================] - 10s 2ms/sample - loss: 3.7736 - acc: 0.0420 - val_loss: 3.5879 - val_acc: 0.0620\n",
            "Epoch 6/50\n",
            "4000/4000 [==============================] - 10s 2ms/sample - loss: 3.3576 - acc: 0.1125 - val_loss: 4.5130 - val_acc: 0.1330\n",
            "Epoch 7/50\n",
            "4000/4000 [==============================] - 9s 2ms/sample - loss: 2.8755 - acc: 0.2017 - val_loss: 3.0629 - val_acc: 0.2020\n",
            "Epoch 8/50\n",
            "4000/4000 [==============================] - 9s 2ms/sample - loss: 2.5453 - acc: 0.2932 - val_loss: 3.1739 - val_acc: 0.2280\n",
            "Epoch 9/50\n",
            "4000/4000 [==============================] - 9s 2ms/sample - loss: 2.2236 - acc: 0.3875 - val_loss: 3.2912 - val_acc: 0.2550\n",
            "Epoch 10/50\n",
            "4000/4000 [==============================] - 9s 2ms/sample - loss: 1.9376 - acc: 0.4400 - val_loss: 2.4980 - val_acc: 0.3680\n",
            "Epoch 11/50\n",
            "4000/4000 [==============================] - 9s 2ms/sample - loss: 1.6172 - acc: 0.5297 - val_loss: 2.0621 - val_acc: 0.4470\n",
            "Epoch 12/50\n",
            "4000/4000 [==============================] - 9s 2ms/sample - loss: 1.4183 - acc: 0.5770 - val_loss: 2.3595 - val_acc: 0.4090\n",
            "Epoch 13/50\n",
            "4000/4000 [==============================] - 9s 2ms/sample - loss: 1.2253 - acc: 0.6298 - val_loss: 1.8392 - val_acc: 0.4840\n",
            "Epoch 14/50\n",
            "4000/4000 [==============================] - 9s 2ms/sample - loss: 1.0638 - acc: 0.6702 - val_loss: 2.8649 - val_acc: 0.4090\n",
            "Epoch 15/50\n",
            "4000/4000 [==============================] - 9s 2ms/sample - loss: 0.8666 - acc: 0.7235 - val_loss: 3.8388 - val_acc: 0.3300\n",
            "Epoch 16/50\n",
            "4000/4000 [==============================] - 9s 2ms/sample - loss: 0.7889 - acc: 0.7542 - val_loss: 1.5306 - val_acc: 0.5960\n",
            "Epoch 17/50\n",
            "4000/4000 [==============================] - 9s 2ms/sample - loss: 0.7286 - acc: 0.7713 - val_loss: 1.8936 - val_acc: 0.5430\n",
            "Epoch 18/50\n",
            "4000/4000 [==============================] - 9s 2ms/sample - loss: 0.5996 - acc: 0.8043 - val_loss: 2.2957 - val_acc: 0.4770\n",
            "Epoch 19/50\n",
            "4000/4000 [==============================] - 9s 2ms/sample - loss: 0.5670 - acc: 0.8198 - val_loss: 2.8240 - val_acc: 0.4510\n",
            "Epoch 20/50\n",
            "4000/4000 [==============================] - 9s 2ms/sample - loss: 0.5740 - acc: 0.8160 - val_loss: 3.9755 - val_acc: 0.3720\n",
            "Epoch 21/50\n",
            "4000/4000 [==============================] - 9s 2ms/sample - loss: 0.7250 - acc: 0.7883 - val_loss: 1.7596 - val_acc: 0.5740\n",
            "Epoch 22/50\n",
            "4000/4000 [==============================] - 9s 2ms/sample - loss: 0.4789 - acc: 0.8468 - val_loss: 2.6376 - val_acc: 0.4800\n",
            "Epoch 23/50\n",
            "4000/4000 [==============================] - 9s 2ms/sample - loss: 0.4445 - acc: 0.8547 - val_loss: 1.2923 - val_acc: 0.6740\n",
            "Epoch 24/50\n",
            "4000/4000 [==============================] - 9s 2ms/sample - loss: 0.4553 - acc: 0.8600 - val_loss: 1.7714 - val_acc: 0.5970\n",
            "Epoch 25/50\n",
            "4000/4000 [==============================] - 9s 2ms/sample - loss: 0.3711 - acc: 0.8817 - val_loss: 1.6121 - val_acc: 0.5850\n",
            "Epoch 26/50\n",
            "4000/4000 [==============================] - 9s 2ms/sample - loss: 0.3141 - acc: 0.9000 - val_loss: 2.3532 - val_acc: 0.5530\n",
            "Epoch 27/50\n",
            "4000/4000 [==============================] - 9s 2ms/sample - loss: 0.3410 - acc: 0.8890 - val_loss: 2.0204 - val_acc: 0.5450\n",
            "Epoch 28/50\n",
            "4000/4000 [==============================] - 9s 2ms/sample - loss: 0.3037 - acc: 0.9022 - val_loss: 1.4078 - val_acc: 0.6650\n"
          ],
          "name": "stdout"
        }
      ]
    },
    {
      "cell_type": "code",
      "metadata": {
        "id": "-EYzXbS5A64x",
        "colab_type": "code",
        "outputId": "21a64ea3-07f0-4dc0-e422-f302744d4b93",
        "colab": {
          "base_uri": "https://localhost:8080/",
          "height": 295
        }
      },
      "source": [
        "plt.plot(history.history['acc'])\n",
        "plt.plot(history.history['val_acc'])\n",
        "plt.title('Model accuracy')\n",
        "plt.ylabel('Accuracy')\n",
        "plt.xlabel('Epoch')\n",
        "plt.legend(['Train', 'Test'], loc='upper left')\n",
        "plt.show()"
      ],
      "execution_count": 0,
      "outputs": [
        {
          "output_type": "display_data",
          "data": {
            "image/png": "[encoded data removed]",
            "text/plain": [
              "<Figure size 432x288 with 1 Axes>"
            ]
          },
          "metadata": {
            "tags": []
          }
        }
      ]
    }
  ]
}