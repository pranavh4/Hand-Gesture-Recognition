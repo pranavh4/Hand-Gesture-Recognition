{
 "cells": [
  {
   "cell_type": "code",
   "execution_count": 1,
   "metadata": {},
   "outputs": [],
   "source": [
    "from tensorflow.keras.applications import VGG16\n",
    "import tensorflow as tf\n",
    "from tensorflow.keras.models import Sequential\n",
    "from tensorflow.keras.layers import Dense,Flatten\n",
    "import cv2\n",
    "import matplotlib.pyplot as plt\n",
    "import numpy as np\n",
    "import generate_images_labels as img_label, image_transformation as img_trans"
   ]
  },
  {
   "cell_type": "code",
   "execution_count": 2,
   "metadata": {},
   "outputs": [],
   "source": [
    "img_labels_train = img_label.get_images_labels_list(\"./data/images/train\")\n",
    "img_train = []\n",
    "for i in img_labels_train:\n",
    "    img_train.append(cv2.imread(i['image_path']))"
   ]
  },
  {
   "cell_type": "code",
   "execution_count": 3,
   "metadata": {},
   "outputs": [],
   "source": [
    "img_labels_train = [i['image_label'] for i in img_labels_train]\n",
    "labels = sorted(list(set(img_labels_train)))\n",
    "for i in range(len(img_labels_train)):\n",
    "    one_hot = [0 for x in range(len(labels))]\n",
    "    one_hot[labels.index(img_labels_train[i])] = 1\n",
    "    img_labels_train[i] = one_hot\n",
    "img_labels_train = np.array(img_labels_train)"
   ]
  },
  {
   "cell_type": "code",
   "execution_count": 4,
   "metadata": {},
   "outputs": [],
   "source": [
    "img_labels_test = img_label.get_images_labels_list(\"./data/images/test\")\n",
    "img_test = []\n",
    "for i in img_labels_test:\n",
    "    img_test.append(cv2.imread(i['image_path']))"
   ]
  },
  {
   "cell_type": "code",
   "execution_count": 5,
   "metadata": {},
   "outputs": [],
   "source": [
    "img_labels_test = [i['image_label'] for i in img_labels_test]\n",
    "labels = sorted(list(set(img_labels_test)))\n",
    "for i in range(len(img_labels_test)):\n",
    "    one_hot = [0 for x in range(len(labels))]\n",
    "    one_hot[labels.index(img_labels_test[i])] = 1\n",
    "    img_labels_test[i] = one_hot\n",
    "img_labels_test = np.array(img_labels_test)"
   ]
  },
  {
   "cell_type": "code",
   "execution_count": null,
   "metadata": {},
   "outputs": [],
   "source": [
    "IMG_SHAPE = (240, 320, 3)"
   ]
  },
  {
   "cell_type": "code",
   "execution_count": null,
   "metadata": {},
   "outputs": [],
   "source": [
    "new_model = Sequential()\n",
    "# model.trainable = False\n",
    "opt = optimizers.Adam(learning_rate=0.00001)\n",
    "new_model.add(layers.Conv2D(filters=2,kernel_size=(3,3),input_shape=IMG_SHAPE,activation='relu'))\n",
    "new_model.add(layers.MaxPool2D(pool_size=(2,2)))\n",
    "# new_model.add(layers.MaxPool2D(pool_size=(2,2)))\n",
    "new_model.add(layers.Flatten())\n",
    "new_model.add(layers.Dense(18, activation='softmax'))\n",
    "new_model.compile(optimizer=opt,loss='categorical_crossentropy',metrics=['accuracy'])\n",
    "new_model.summary()"
   ]
  }
 ],
 "metadata": {
  "kernelspec": {
   "display_name": "hack_env",
   "language": "python",
   "name": "hack_env"
  },
  "language_info": {
   "codemirror_mode": {
    "name": "ipython",
    "version": 3
   },
   "file_extension": ".py",
   "mimetype": "text/x-python",
   "name": "python",
   "nbconvert_exporter": "python",
   "pygments_lexer": "ipython3",
   "version": "3.7.5"
  },
  "varInspector": {
   "cols": {
    "lenName": 16,
    "lenType": 16,
    "lenVar": 40
   },
   "kernels_config": {
    "python": {
     "delete_cmd_postfix": "",
     "delete_cmd_prefix": "del ",
     "library": "var_list.py",
     "varRefreshCmd": "print(var_dic_list())"
    },
    "r": {
     "delete_cmd_postfix": ") ",
     "delete_cmd_prefix": "rm(",
     "library": "var_list.r",
     "varRefreshCmd": "cat(var_dic_list()) "
    }
   },
   "types_to_exclude": [
    "module",
    "function",
    "builtin_function_or_method",
    "instance",
    "_Feature"
   ],
   "window_display": false
  }
 },
 "nbformat": 4,
 "nbformat_minor": 2
}
